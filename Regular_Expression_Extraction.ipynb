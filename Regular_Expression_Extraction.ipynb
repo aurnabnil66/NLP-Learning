{
 "cells": [
  {
   "cell_type": "markdown",
   "metadata": {},
   "source": [
    "Import Necessary Modules"
   ]
  },
  {
   "cell_type": "code",
   "execution_count": 1,
   "metadata": {},
   "outputs": [],
   "source": [
    "import re"
   ]
  },
  {
   "cell_type": "markdown",
   "metadata": {},
   "source": [
    "# Retrive Email id and Digits and Phone Number"
   ]
  },
  {
   "cell_type": "markdown",
   "metadata": {},
   "source": [
    "Content"
   ]
  },
  {
   "cell_type": "code",
   "execution_count": 2,
   "metadata": {},
   "outputs": [],
   "source": [
    "chat1 = 'chatbot: you ask lot of questions 😠 02468101214, abc25@gmail.com, 03576101305, (246)-135-7913, igl10@rocketmail.com'\n",
    "chat2 = 'chatbot: here it is: (123)-567-89120, xyz69@yahoo.com'\n",
    "chat3 = 'chatbot: yes, phone: 13579111315 email: pqr@hotmail.com'"
   ]
  },
  {
   "cell_type": "markdown",
   "metadata": {},
   "source": [
    "Function to retrive different elements\n"
   ]
  },
  {
   "cell_type": "code",
   "execution_count": 3,
   "metadata": {},
   "outputs": [],
   "source": [
    "def match_pattern(pattern, text):\n",
    "    find_matches = re.finditer(pattern, text)  # iterator to match objects for all non-overlapping matches \n",
    "    matches = [match.group() for match in find_matches]\n",
    "    return matches\n",
    "        "
   ]
  },
  {
   "cell_type": "markdown",
   "metadata": {},
   "source": [
    "Retrive Digit Patterns\n"
   ]
  },
  {
   "cell_type": "code",
   "execution_count": 4,
   "metadata": {},
   "outputs": [
    {
     "name": "stdout",
     "output_type": "stream",
     "text": [
      "['02468101214', '03576101305', '(246)-135-7913']\n",
      "['(123)-567-8912']\n",
      "['13579111315']\n"
     ]
    }
   ],
   "source": [
    "digit_pattern = '(\\d{11})|\\(\\d{3}\\)-\\d{3}-\\d{4}'\n",
    "\n",
    "print(match_pattern(digit_pattern, chat1))\n",
    "print(match_pattern(digit_pattern, chat2))\n",
    "print(match_pattern(digit_pattern, chat3))"
   ]
  },
  {
   "cell_type": "markdown",
   "metadata": {},
   "source": [
    "Retrive Email Address Patterns"
   ]
  },
  {
   "cell_type": "code",
   "execution_count": 5,
   "metadata": {},
   "outputs": [
    {
     "name": "stdout",
     "output_type": "stream",
     "text": [
      "['abc25@gmail.com', 'igl10@rocketmail.com']\n",
      "['xyz69@yahoo.com']\n",
      "['pqr@hotmail.com']\n"
     ]
    }
   ],
   "source": [
    "email_pattern = '[a-zA-Z0-9]*\\@[a-z0-9]*\\.[a-zA-Z0-9]*'\n",
    "\n",
    "print(match_pattern(email_pattern, chat1))\n",
    "print(match_pattern(email_pattern, chat2))\n",
    "print(match_pattern(email_pattern, chat3))"
   ]
  },
  {
   "cell_type": "markdown",
   "metadata": {},
   "source": [
    "# Retrive Order Number in Customer Support"
   ]
  },
  {
   "cell_type": "markdown",
   "metadata": {},
   "source": [
    "Content"
   ]
  },
  {
   "cell_type": "code",
   "execution_count": 6,
   "metadata": {},
   "outputs": [],
   "source": [
    "text1='codebasics: Hello, I am having an issue with my order # 412889912'\n",
    "text2='codebasics: I have a problem with my order number 910880910'\n",
    "text3='codebasics: My order 010101010 is having an issue, I was charged 300$ when online it says 280$'"
   ]
  },
  {
   "cell_type": "markdown",
   "metadata": {},
   "source": [
    "Function to retrive different elements"
   ]
  },
  {
   "cell_type": "code",
   "execution_count": 7,
   "metadata": {},
   "outputs": [],
   "source": [
    "def extract_order(pattern, text):\n",
    "    find_matches = re.findall(pattern, text)  \n",
    "    return find_matches"
   ]
  },
  {
   "cell_type": "markdown",
   "metadata": {},
   "source": [
    "Retrive Order Numbers"
   ]
  },
  {
   "cell_type": "code",
   "execution_count": 8,
   "metadata": {},
   "outputs": [
    {
     "name": "stdout",
     "output_type": "stream",
     "text": [
      "['412889912']\n",
      "['910880910']\n",
      "['010101010']\n"
     ]
    }
   ],
   "source": [
    "order_pattern = 'order[^\\d]*(\\d*)'\n",
    "\n",
    "print(extract_order(order_pattern, text1)) \n",
    "print(extract_order(order_pattern, text2))\n",
    "print(extract_order(order_pattern, text3))"
   ]
  },
  {
   "cell_type": "markdown",
   "metadata": {},
   "source": [
    "Retrive Price Value"
   ]
  },
  {
   "cell_type": "code",
   "execution_count": 9,
   "metadata": {},
   "outputs": [
    {
     "name": "stdout",
     "output_type": "stream",
     "text": [
      "['300', '280']\n"
     ]
    }
   ],
   "source": [
    "price_pattern = '(\\d*)\\$'\n",
    "\n",
    "print(extract_order(price_pattern, text3))"
   ]
  },
  {
   "cell_type": "markdown",
   "metadata": {},
   "source": [
    "# Regex for Information Extraction"
   ]
  },
  {
   "cell_type": "markdown",
   "metadata": {},
   "source": [
    "Content"
   ]
  },
  {
   "cell_type": "code",
   "execution_count": 10,
   "metadata": {},
   "outputs": [],
   "source": [
    "information='''\n",
    "Born\tElon Reeve Musk\n",
    "June 28, 1971 (age 50)\n",
    "Pretoria, Transvaal, South Africa\n",
    "Citizenship\t\n",
    "South Africa (1971–present)\n",
    "Canada (1971–present)\n",
    "United States (2002–present)\n",
    "Education\tUniversity of Pennsylvania (BS, BA)\n",
    "Title\t\n",
    "Founder, CEO and Chief Engineer of SpaceX\n",
    "CEO and product architect of Tesla, Inc.\n",
    "Founder of The Boring Company and X.com (now part of PayPal)\n",
    "Co-founder of Neuralink, OpenAI, and Zip2\n",
    "Spouse(s)\t\n",
    "Justine Wilson\n",
    "​\n",
    "​(m. 2000; div. 2008)​\n",
    "Talulah Riley\n",
    "​\n",
    "​(m. 2010; div. 2012)​\n",
    "​\n",
    "​(m. 2013; div. 2016)\n",
    "'''"
   ]
  },
  {
   "cell_type": "markdown",
   "metadata": {},
   "source": [
    "Function to Extract Information"
   ]
  },
  {
   "cell_type": "code",
   "execution_count": 11,
   "metadata": {},
   "outputs": [],
   "source": [
    "def extract_info(pattern, text):\n",
    "    match_info = re.findall(pattern, text)\n",
    "    return match_info"
   ]
  },
  {
   "cell_type": "markdown",
   "metadata": {},
   "source": [
    "Extract Age"
   ]
  },
  {
   "cell_type": "code",
   "execution_count": 12,
   "metadata": {},
   "outputs": [
    {
     "name": "stdout",
     "output_type": "stream",
     "text": [
      "['50']\n"
     ]
    }
   ],
   "source": [
    "age_pattern = 'age (\\d+)'\n",
    "\n",
    "print(extract_info(age_pattern, information))"
   ]
  },
  {
   "cell_type": "markdown",
   "metadata": {},
   "source": [
    "Extract Name"
   ]
  },
  {
   "cell_type": "code",
   "execution_count": 13,
   "metadata": {},
   "outputs": [
    {
     "name": "stdout",
     "output_type": "stream",
     "text": [
      "['Elon Reeve Musk']\n"
     ]
    }
   ],
   "source": [
    "name_pattern = 'Born.(.*)\\n'\n",
    "\n",
    "print(extract_info(name_pattern, information))"
   ]
  },
  {
   "cell_type": "markdown",
   "metadata": {},
   "source": [
    "Extract Birth Date"
   ]
  },
  {
   "cell_type": "code",
   "execution_count": 14,
   "metadata": {},
   "outputs": [
    {
     "name": "stdout",
     "output_type": "stream",
     "text": [
      "['June 28, 1971 ']\n"
     ]
    }
   ],
   "source": [
    "birth_date_pattern = 'Born.*\\n(.*)\\(age'\n",
    "\n",
    "print(extract_info(birth_date_pattern, information))"
   ]
  },
  {
   "cell_type": "markdown",
   "metadata": {},
   "source": [
    "Extract Birth Place"
   ]
  },
  {
   "cell_type": "code",
   "execution_count": 15,
   "metadata": {},
   "outputs": [
    {
     "name": "stdout",
     "output_type": "stream",
     "text": [
      "['Pretoria, Transvaal, South Africa']\n"
     ]
    }
   ],
   "source": [
    "birth_place = '\\(age.*\\n(.*)'\n",
    "\n",
    "print(extract_info(birth_place, information))"
   ]
  },
  {
   "cell_type": "markdown",
   "metadata": {},
   "source": [
    "Extract All"
   ]
  },
  {
   "cell_type": "code",
   "execution_count": 19,
   "metadata": {},
   "outputs": [],
   "source": [
    "def extract_all(text):\n",
    "    age = (extract_info(age_pattern, text))\n",
    "    fullName = extract_info(name_pattern, text)\n",
    "    birthDate = extract_info(birth_date_pattern, text)\n",
    "    birthPlace = extract_info(birth_place, text)\n",
    "\n",
    "    return {\n",
    "        'Full Name' : fullName,\n",
    "        'Age' : age,\n",
    "        'Birth Date' : birthDate,\n",
    "        'Birth Place' : birthPlace\n",
    "    }"
   ]
  },
  {
   "cell_type": "code",
   "execution_count": 20,
   "metadata": {},
   "outputs": [
    {
     "data": {
      "text/plain": [
       "{'Full Name': ['Elon Reeve Musk'],\n",
       " 'Age': ['50'],\n",
       " 'Birth Date': ['June 28, 1971 '],\n",
       " 'Birth Place': ['Pretoria, Transvaal, South Africa']}"
      ]
     },
     "execution_count": 20,
     "metadata": {},
     "output_type": "execute_result"
    }
   ],
   "source": [
    "extract_all(information)"
   ]
  }
 ],
 "metadata": {
  "kernelspec": {
   "display_name": "Python 3",
   "language": "python",
   "name": "python3"
  },
  "language_info": {
   "codemirror_mode": {
    "name": "ipython",
    "version": 3
   },
   "file_extension": ".py",
   "mimetype": "text/x-python",
   "name": "python",
   "nbconvert_exporter": "python",
   "pygments_lexer": "ipython3",
   "version": "3.8.5"
  }
 },
 "nbformat": 4,
 "nbformat_minor": 2
}
